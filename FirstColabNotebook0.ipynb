{
  "nbformat": 4,
  "nbformat_minor": 0,
  "metadata": {
    "colab": {
      "name": "Untitled0.ipynb",
      "provenance": [],
      "authorship_tag": "ABX9TyPGmn+0urnA3KQhZUbsK+u0",
      "include_colab_link": true
    },
    "kernelspec": {
      "name": "python3",
      "display_name": "Python 3"
    },
    "language_info": {
      "name": "python"
    }
  },
  "cells": [
    {
      "cell_type": "markdown",
      "metadata": {
        "id": "view-in-github",
        "colab_type": "text"
      },
      "source": [
        "<a href=\"https://colab.research.google.com/github/lqin99/GitHub-Test/blob/master/FirstColabNotebook0.ipynb\" target=\"_parent\"><img src=\"https://colab.research.google.com/assets/colab-badge.svg\" alt=\"Open In Colab\"/></a>"
      ]
    },
    {
      "cell_type": "code",
      "execution_count": null,
      "metadata": {
        "id": "Sx_fXg0EhF0R"
      },
      "outputs": [],
      "source": [
        "# Ling's first notebook\n",
        "x=1\n",
        "y=2\n",
        "z=3\n",
        "a=4"
      ]
    },
    {
      "cell_type": "markdown",
      "source": [
        "2nd try"
      ],
      "metadata": {
        "id": "aPMQBepLl3Ao"
      }
    },
    {
      "cell_type": "code",
      "source": [
        "# commment2"
      ],
      "metadata": {
        "id": "Nz1f3Aj4l6Iq"
      },
      "execution_count": null,
      "outputs": []
    },
    {
      "cell_type": "code",
      "source": [
        "x=5"
      ],
      "metadata": {
        "id": "10AcaJTknW0o"
      },
      "execution_count": null,
      "outputs": []
    }
  ]
}